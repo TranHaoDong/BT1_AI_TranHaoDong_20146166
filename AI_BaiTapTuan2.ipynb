{
  "nbformat": 4,
  "nbformat_minor": 0,
  "metadata": {
    "colab": {
      "provenance": [],
      "authorship_tag": "ABX9TyO3TuwOcaG1ICUOFVk6TfGA",
      "include_colab_link": true
    },
    "kernelspec": {
      "name": "python3",
      "display_name": "Python 3"
    },
    "language_info": {
      "name": "python"
    }
  },
  "cells": [
    {
      "cell_type": "markdown",
      "metadata": {
        "id": "view-in-github",
        "colab_type": "text"
      },
      "source": [
        "<a href=\"https://colab.research.google.com/github/TranHaoDong/BT_AI_TranHaoDong_20146166/blob/main/AI_BaiTapTuan2.ipynb\" target=\"_parent\"><img src=\"https://colab.research.google.com/assets/colab-badge.svg\" alt=\"Open In Colab\"/></a>"
      ]
    },
    {
      "cell_type": "code",
      "execution_count": 5,
      "metadata": {
        "colab": {
          "base_uri": "https://localhost:8080/"
        },
        "id": "jdDH2oATmuT0",
        "outputId": "1ced79b1-d958-411a-fa11-6b59876c27a4"
      },
      "outputs": [
        {
          "output_type": "stream",
          "name": "stdout",
          "text": [
            "Số huy chương vàng Pháp đạt được:  Year            25\n",
            "City            25\n",
            "Sport           25\n",
            "Discipline      25\n",
            "NOC             25\n",
            "Event           25\n",
            "Event gender    25\n",
            "Medal           25\n",
            "dtype: int64\n",
            "Số huy chương Pháp đạt được:  Year            83\n",
            "City            83\n",
            "Sport           83\n",
            "Discipline      83\n",
            "NOC             83\n",
            "Event           83\n",
            "Event gender    83\n",
            "Medal           83\n",
            "dtype: int64\n"
          ]
        }
      ],
      "source": [
        "import pandas as pd\n",
        "import numpy as np\n",
        "time_index = pd.date_range('01/01/2023',periods = 100000, freq = '30s')\n",
        "dataframe=pd.DataFrame(index=time_index)\n",
        "dataframe['Acess_Amount'] = np.random.randint(1,10,100000)\n",
        "dataframe.resample('W').sum()\n",
        "#Tìm số huy chương của 1 quốc gia\n",
        "#Tìm số huy chương vàng, bạc, đồng theo màn thi cá nhân\n",
        "#Tính số lượng huy chương trung bình\n",
        "import pandas as pd\n",
        "url = 'http://winterolympicsmedals.com/medals.csv'\n",
        "data = pd.read_csv(url)\n",
        "data\n",
        "print('Số huy chương vàng Pháp đạt được: ',data[(data['NOC']=='FRA')&(data['Medal']=='Gold')].count())\n",
        "data=data.set_index(data['NOC'])\n",
        "data.loc['FRA']\n",
        "print('Số huy chương Pháp đạt được: ',data[(data['NOC']=='FRA')&(data['Medal'])].count())"
      ]
    }
  ]
}